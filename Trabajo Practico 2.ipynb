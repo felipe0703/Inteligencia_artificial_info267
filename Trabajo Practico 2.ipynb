{
 "cells": [
  {
   "cell_type": "code",
   "execution_count": 15,
   "metadata": {},
   "outputs": [],
   "source": [
    "import pandas as pd\n",
    "import statsmodels.api as sm\n",
    "import numpy  as np\n",
    "from sklearn.preprocessing import StandardScaler"
   ]
  },
  {
   "cell_type": "code",
   "execution_count": 16,
   "metadata": {},
   "outputs": [],
   "source": [
    "df = pd.read_csv(\"nb1-insurance.csv\")"
   ]
  },
  {
   "cell_type": "code",
   "execution_count": 17,
   "metadata": {},
   "outputs": [],
   "source": [
    "# Variable objetivo\n",
    "Y = df[\"expenses\"]\n",
    "#Variables predictivas\n",
    "X = df[[\"age\",\"sex\",\"bmi\",\"children\",\"smoker\"]]"
   ]
  },
  {
   "cell_type": "code",
   "execution_count": 18,
   "metadata": {},
   "outputs": [],
   "source": [
    "columns_names = df.columns.values.tolist()"
   ]
  },
  {
   "cell_type": "code",
   "execution_count": 19,
   "metadata": {},
   "outputs": [],
   "source": [
    "dummy_sex = pd.get_dummies(df[\"sex\"], prefix=\"sex\").iloc[:,1:]\n",
    "dummy_smoker = pd.get_dummies(df[\"smoker\"], prefix=\"smoker\").iloc[:,1:]"
   ]
  },
  {
   "cell_type": "code",
   "execution_count": 20,
   "metadata": {},
   "outputs": [],
   "source": [
    "columns_names = df.columns.values.tolist()\n",
    "df_new = df[columns_names].join(dummy_sex)\n",
    "columns_names = df_new.columns.values.tolist()\n",
    "df_new = df_new[columns_names].join(dummy_smoker)"
   ]
  },
  {
   "cell_type": "code",
   "execution_count": 21,
   "metadata": {},
   "outputs": [],
   "source": [
    "feature_cols = [\"age\",\"bmi\",\"children\",\"sex_male\",\"smoker_yes\"]\n",
    "# Variable objetivo\n",
    "Y = df_new[\"expenses\"]\n",
    "#Variables predictivas\n",
    "X = df_new[feature_cols]"
   ]
  },
  {
   "cell_type": "code",
   "execution_count": 22,
   "metadata": {},
   "outputs": [],
   "source": [
    "est = sm.OLS(Y, X).fit()"
   ]
  },
  {
   "cell_type": "code",
   "execution_count": 23,
   "metadata": {},
   "outputs": [],
   "source": [
    "def predict_expenses(age, bmi, children,sex_male,smoker_yes):\n",
    "    return 198.399764*age  +  37.578382*bmi + 250.841441*children - 707.668406*sex_male + 23386.227638*smoker_yes"
   ]
  },
  {
   "cell_type": "code",
   "execution_count": 24,
   "metadata": {},
   "outputs": [],
   "source": [
    "df_new[\"prediction\"] = predict_expenses(df_new[\"age\"],df_new[\"bmi\"],df_new[\"children\"],df_new[\"sex_male\"],df_new[\"smoker_yes\"])"
   ]
  },
  {
   "cell_type": "code",
   "execution_count": 25,
   "metadata": {},
   "outputs": [
    {
     "data": {
      "text/html": [
       "<div>\n",
       "<style scoped>\n",
       "    .dataframe tbody tr th:only-of-type {\n",
       "        vertical-align: middle;\n",
       "    }\n",
       "\n",
       "    .dataframe tbody tr th {\n",
       "        vertical-align: top;\n",
       "    }\n",
       "\n",
       "    .dataframe thead th {\n",
       "        text-align: right;\n",
       "    }\n",
       "</style>\n",
       "<table border=\"1\" class=\"dataframe\">\n",
       "  <thead>\n",
       "    <tr style=\"text-align: right;\">\n",
       "      <th></th>\n",
       "      <th>age</th>\n",
       "      <th>sex</th>\n",
       "      <th>bmi</th>\n",
       "      <th>children</th>\n",
       "      <th>smoker</th>\n",
       "      <th>region</th>\n",
       "      <th>expenses</th>\n",
       "      <th>sex_male</th>\n",
       "      <th>smoker_yes</th>\n",
       "      <th>prediction</th>\n",
       "    </tr>\n",
       "  </thead>\n",
       "  <tbody>\n",
       "    <tr>\n",
       "      <th>0</th>\n",
       "      <td>19</td>\n",
       "      <td>female</td>\n",
       "      <td>27.9</td>\n",
       "      <td>0</td>\n",
       "      <td>yes</td>\n",
       "      <td>southwest</td>\n",
       "      <td>16884.92</td>\n",
       "      <td>0</td>\n",
       "      <td>1</td>\n",
       "      <td>28204.260012</td>\n",
       "    </tr>\n",
       "    <tr>\n",
       "      <th>1</th>\n",
       "      <td>18</td>\n",
       "      <td>male</td>\n",
       "      <td>33.8</td>\n",
       "      <td>1</td>\n",
       "      <td>no</td>\n",
       "      <td>southeast</td>\n",
       "      <td>1725.55</td>\n",
       "      <td>1</td>\n",
       "      <td>0</td>\n",
       "      <td>4384.518099</td>\n",
       "    </tr>\n",
       "    <tr>\n",
       "      <th>2</th>\n",
       "      <td>28</td>\n",
       "      <td>male</td>\n",
       "      <td>33.0</td>\n",
       "      <td>3</td>\n",
       "      <td>no</td>\n",
       "      <td>southeast</td>\n",
       "      <td>4449.46</td>\n",
       "      <td>1</td>\n",
       "      <td>0</td>\n",
       "      <td>6840.135915</td>\n",
       "    </tr>\n",
       "    <tr>\n",
       "      <th>3</th>\n",
       "      <td>33</td>\n",
       "      <td>male</td>\n",
       "      <td>22.7</td>\n",
       "      <td>0</td>\n",
       "      <td>no</td>\n",
       "      <td>northwest</td>\n",
       "      <td>21984.47</td>\n",
       "      <td>1</td>\n",
       "      <td>0</td>\n",
       "      <td>6692.553077</td>\n",
       "    </tr>\n",
       "    <tr>\n",
       "      <th>4</th>\n",
       "      <td>32</td>\n",
       "      <td>male</td>\n",
       "      <td>28.9</td>\n",
       "      <td>0</td>\n",
       "      <td>no</td>\n",
       "      <td>northwest</td>\n",
       "      <td>3866.86</td>\n",
       "      <td>1</td>\n",
       "      <td>0</td>\n",
       "      <td>6727.139282</td>\n",
       "    </tr>\n",
       "  </tbody>\n",
       "</table>\n",
       "</div>"
      ],
      "text/plain": [
       "   age     sex   bmi  children smoker     region  expenses  sex_male  \\\n",
       "0   19  female  27.9         0    yes  southwest  16884.92         0   \n",
       "1   18    male  33.8         1     no  southeast   1725.55         1   \n",
       "2   28    male  33.0         3     no  southeast   4449.46         1   \n",
       "3   33    male  22.7         0     no  northwest  21984.47         1   \n",
       "4   32    male  28.9         0     no  northwest   3866.86         1   \n",
       "\n",
       "   smoker_yes    prediction  \n",
       "0           1  28204.260012  \n",
       "1           0   4384.518099  \n",
       "2           0   6840.135915  \n",
       "3           0   6692.553077  \n",
       "4           0   6727.139282  "
      ]
     },
     "execution_count": 25,
     "metadata": {},
     "output_type": "execute_result"
    }
   ],
   "source": [
    "df_new.head()"
   ]
  },
  {
   "cell_type": "code",
   "execution_count": 41,
   "metadata": {},
   "outputs": [],
   "source": [
    "df_new[\"SSD\"] = (df_new[\"expenses\"] - df_new[\"prediction\"])**2"
   ]
  },
  {
   "cell_type": "code",
   "execution_count": 42,
   "metadata": {},
   "outputs": [
    {
     "data": {
      "text/html": [
       "<div>\n",
       "<style scoped>\n",
       "    .dataframe tbody tr th:only-of-type {\n",
       "        vertical-align: middle;\n",
       "    }\n",
       "\n",
       "    .dataframe tbody tr th {\n",
       "        vertical-align: top;\n",
       "    }\n",
       "\n",
       "    .dataframe thead th {\n",
       "        text-align: right;\n",
       "    }\n",
       "</style>\n",
       "<table border=\"1\" class=\"dataframe\">\n",
       "  <thead>\n",
       "    <tr style=\"text-align: right;\">\n",
       "      <th></th>\n",
       "      <th>age</th>\n",
       "      <th>sex</th>\n",
       "      <th>bmi</th>\n",
       "      <th>children</th>\n",
       "      <th>smoker</th>\n",
       "      <th>region</th>\n",
       "      <th>expenses</th>\n",
       "      <th>sex_male</th>\n",
       "      <th>smoker_yes</th>\n",
       "      <th>prediction</th>\n",
       "      <th>SSD</th>\n",
       "    </tr>\n",
       "  </thead>\n",
       "  <tbody>\n",
       "    <tr>\n",
       "      <th>0</th>\n",
       "      <td>19</td>\n",
       "      <td>female</td>\n",
       "      <td>27.9</td>\n",
       "      <td>0</td>\n",
       "      <td>yes</td>\n",
       "      <td>southwest</td>\n",
       "      <td>16884.92</td>\n",
       "      <td>0</td>\n",
       "      <td>1</td>\n",
       "      <td>28204.260012</td>\n",
       "      <td>1.281275e+08</td>\n",
       "    </tr>\n",
       "    <tr>\n",
       "      <th>1</th>\n",
       "      <td>18</td>\n",
       "      <td>male</td>\n",
       "      <td>33.8</td>\n",
       "      <td>1</td>\n",
       "      <td>no</td>\n",
       "      <td>southeast</td>\n",
       "      <td>1725.55</td>\n",
       "      <td>1</td>\n",
       "      <td>0</td>\n",
       "      <td>4384.518099</td>\n",
       "      <td>7.070111e+06</td>\n",
       "    </tr>\n",
       "    <tr>\n",
       "      <th>2</th>\n",
       "      <td>28</td>\n",
       "      <td>male</td>\n",
       "      <td>33.0</td>\n",
       "      <td>3</td>\n",
       "      <td>no</td>\n",
       "      <td>southeast</td>\n",
       "      <td>4449.46</td>\n",
       "      <td>1</td>\n",
       "      <td>0</td>\n",
       "      <td>6840.135915</td>\n",
       "      <td>5.715331e+06</td>\n",
       "    </tr>\n",
       "    <tr>\n",
       "      <th>3</th>\n",
       "      <td>33</td>\n",
       "      <td>male</td>\n",
       "      <td>22.7</td>\n",
       "      <td>0</td>\n",
       "      <td>no</td>\n",
       "      <td>northwest</td>\n",
       "      <td>21984.47</td>\n",
       "      <td>1</td>\n",
       "      <td>0</td>\n",
       "      <td>6692.553077</td>\n",
       "      <td>2.338427e+08</td>\n",
       "    </tr>\n",
       "    <tr>\n",
       "      <th>4</th>\n",
       "      <td>32</td>\n",
       "      <td>male</td>\n",
       "      <td>28.9</td>\n",
       "      <td>0</td>\n",
       "      <td>no</td>\n",
       "      <td>northwest</td>\n",
       "      <td>3866.86</td>\n",
       "      <td>1</td>\n",
       "      <td>0</td>\n",
       "      <td>6727.139282</td>\n",
       "      <td>8.181198e+06</td>\n",
       "    </tr>\n",
       "  </tbody>\n",
       "</table>\n",
       "</div>"
      ],
      "text/plain": [
       "   age     sex   bmi  children smoker     region  expenses  sex_male  \\\n",
       "0   19  female  27.9         0    yes  southwest  16884.92         0   \n",
       "1   18    male  33.8         1     no  southeast   1725.55         1   \n",
       "2   28    male  33.0         3     no  southeast   4449.46         1   \n",
       "3   33    male  22.7         0     no  northwest  21984.47         1   \n",
       "4   32    male  28.9         0     no  northwest   3866.86         1   \n",
       "\n",
       "   smoker_yes    prediction           SSD  \n",
       "0           1  28204.260012  1.281275e+08  \n",
       "1           0   4384.518099  7.070111e+06  \n",
       "2           0   6840.135915  5.715331e+06  \n",
       "3           0   6692.553077  2.338427e+08  \n",
       "4           0   6727.139282  8.181198e+06  "
      ]
     },
     "execution_count": 42,
     "metadata": {},
     "output_type": "execute_result"
    }
   ],
   "source": [
    "df_new.head()"
   ]
  },
  {
   "cell_type": "code",
   "execution_count": 43,
   "metadata": {},
   "outputs": [
    {
     "data": {
      "text/plain": [
       "54986740976.63504"
      ]
     },
     "execution_count": 43,
     "metadata": {},
     "output_type": "execute_result"
    }
   ],
   "source": [
    "SSD = sum(df_new[\"SSD\"])\n",
    "SSD"
   ]
  },
  {
   "cell_type": "code",
   "execution_count": 44,
   "metadata": {},
   "outputs": [
    {
     "data": {
      "text/plain": [
       "6410.633273405596"
      ]
     },
     "execution_count": 44,
     "metadata": {},
     "output_type": "execute_result"
    }
   ],
   "source": [
    "RMSE = np.sqrt(SSD/ len(df_new))\n",
    "RMSE"
   ]
  },
  {
   "cell_type": "markdown",
   "metadata": {},
   "source": [
    "- ¿Cuál es el RMSE de los modelos de regresión realizados en el notebook 1?\n",
    "    * RMSE = 6410.633273405596\n",
    "- ¿Cuáles son las principales limites de un modelo de regresión lineal?\n",
    "    * Si la variable de salida, es decir, la variable que queremos predecir es de valor discreta, la regresión lineal no nos sirve\n",
    "    * la prediccion puede que no sea tan precisa\n",
    "- ¿Cuál es la diferencia entre las relaciones de \"correlaciones\" y \"causalidad\"? ¿Por qué es importante tener conciencia de la diferencia?\n",
    "    * Una correlación es una medida o grado de relación entre dos variables\n",
    "    * Una relación causal entre dos eventos existe si la ocurrencia del primero causa el otro.\n",
    "    * Una correlación entre dos variables no implica causalidad. Por otro lado, si hay una relación causal entre dos variables, estas deben estar correlacionadas.\n",
    "    * Es importante entender la diferencia ya que dos variables esten relacionadas no implica que la segunda variable sea causa de la primera, puede que la segunda variable sea producto de otra que no se este analizando, ejemplo: \n",
    "        * Un estudio muestra que hay una correlación negativa entre la ansiedad de un estudiante antes de una prueba y el puntaje del estudiante en una prueba. Pero no podemos decir que la ansiedad causa un puntaje más bajo en la prueba; podría haber otras razones, el estudiante quizá no estudió bien, entonces aquí la correlación no implica causalidad.\n",
    "        * Hay una correlación positiva entre el número de horas que Usted pasa estudiando y la calificación que obtiene. Aquí, si hay causalidad; si Usted pasa más tiempo estudiando, resultará en una calificación más alta."
   ]
  }
 ],
 "metadata": {
  "kernelspec": {
   "display_name": "Python 3",
   "language": "python",
   "name": "python3"
  },
  "language_info": {
   "codemirror_mode": {
    "name": "ipython",
    "version": 3
   },
   "file_extension": ".py",
   "mimetype": "text/x-python",
   "name": "python",
   "nbconvert_exporter": "python",
   "pygments_lexer": "ipython3",
   "version": "3.6.5"
  }
 },
 "nbformat": 4,
 "nbformat_minor": 2
}
